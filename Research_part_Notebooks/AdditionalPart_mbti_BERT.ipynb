{
  "cells": [
    {
      "cell_type": "markdown",
      "source": [
        "In this additional Notebook, explore our accuracy with BERT."
      ],
      "metadata": {
        "id": "aoaHNzG1OitP"
      },
      "id": "aoaHNzG1OitP"
    },
    {
      "cell_type": "markdown",
      "source": [
        "The platform used is anaconda's jupyter Notebook platform and the environment is self-configured.The detailed configuration information can be found in the final report."
      ],
      "metadata": {
        "id": "lXGgy1T9OaBW"
      },
      "id": "lXGgy1T9OaBW"
    },
    {
      "cell_type": "markdown",
      "id": "ae1597c1",
      "metadata": {
        "papermill": {
          "duration": 0.029561,
          "end_time": "2021-08-19T13:34:39.502608",
          "exception": false,
          "start_time": "2021-08-19T13:34:39.473047",
          "status": "completed"
        },
        "tags": [],
        "id": "ae1597c1"
      },
      "source": [
        "# **Data Pipeline**"
      ]
    },
    {
      "cell_type": "code",
      "source": [
        "!pip install tensorflow\n",
        "!pip install transformers"
      ],
      "metadata": {
        "id": "ifJzWNIPPKCa"
      },
      "id": "ifJzWNIPPKCa",
      "execution_count": null,
      "outputs": []
    },
    {
      "cell_type": "code",
      "execution_count": null,
      "id": "1090f6b5",
      "metadata": {
        "_cell_guid": "b1076dfc-b9ad-4769-8c92-a6c4dae69d19",
        "_uuid": "8f2839f25d086af736a60e9eeb907d3b93b6e0e5",
        "execution": {
          "iopub.execute_input": "2021-08-19T13:34:39.555543Z",
          "iopub.status.busy": "2021-08-19T13:34:39.554462Z",
          "iopub.status.idle": "2021-08-19T13:34:51.458317Z",
          "shell.execute_reply": "2021-08-19T13:34:51.458880Z",
          "shell.execute_reply.started": "2021-08-19T08:08:36.636128Z"
        },
        "papermill": {
          "duration": 11.932208,
          "end_time": "2021-08-19T13:34:51.459167",
          "exception": false,
          "start_time": "2021-08-19T13:34:39.526959",
          "status": "completed"
        },
        "tags": [],
        "id": "1090f6b5",
        "outputId": "f6363353-da31-407b-f65a-d4598a11deb4"
      },
      "outputs": [
        {
          "data": {
            "text/html": [
              "<div>\n",
              "<style scoped>\n",
              "    .dataframe tbody tr th:only-of-type {\n",
              "        vertical-align: middle;\n",
              "    }\n",
              "\n",
              "    .dataframe tbody tr th {\n",
              "        vertical-align: top;\n",
              "    }\n",
              "\n",
              "    .dataframe thead th {\n",
              "        text-align: right;\n",
              "    }\n",
              "</style>\n",
              "<table border=\"1\" class=\"dataframe\">\n",
              "  <thead>\n",
              "    <tr style=\"text-align: right;\">\n",
              "      <th></th>\n",
              "      <th>type</th>\n",
              "      <th>posts</th>\n",
              "    </tr>\n",
              "  </thead>\n",
              "  <tbody>\n",
              "    <tr>\n",
              "      <th>0</th>\n",
              "      <td>INFJ</td>\n",
              "      <td>'http://www.youtube.com/watch?v=qsXHcwe3krw|||...</td>\n",
              "    </tr>\n",
              "    <tr>\n",
              "      <th>1</th>\n",
              "      <td>ENTP</td>\n",
              "      <td>'I'm finding the lack of me in these posts ver...</td>\n",
              "    </tr>\n",
              "    <tr>\n",
              "      <th>2</th>\n",
              "      <td>INTP</td>\n",
              "      <td>'Good one  _____   https://www.youtube.com/wat...</td>\n",
              "    </tr>\n",
              "    <tr>\n",
              "      <th>3</th>\n",
              "      <td>INTJ</td>\n",
              "      <td>'Dear INTP,   I enjoyed our conversation the o...</td>\n",
              "    </tr>\n",
              "    <tr>\n",
              "      <th>4</th>\n",
              "      <td>ENTJ</td>\n",
              "      <td>'You're fired.|||That's another silly misconce...</td>\n",
              "    </tr>\n",
              "  </tbody>\n",
              "</table>\n",
              "</div>"
            ],
            "text/plain": [
              "   type                                              posts\n",
              "0  INFJ  'http://www.youtube.com/watch?v=qsXHcwe3krw|||...\n",
              "1  ENTP  'I'm finding the lack of me in these posts ver...\n",
              "2  INTP  'Good one  _____   https://www.youtube.com/wat...\n",
              "3  INTJ  'Dear INTP,   I enjoyed our conversation the o...\n",
              "4  ENTJ  'You're fired.|||That's another silly misconce..."
            ]
          },
          "execution_count": 1,
          "metadata": {},
          "output_type": "execute_result"
        }
      ],
      "source": [
        "from tqdm.notebook import tqdm\n",
        "import numpy as np\n",
        "import pandas as pd\n",
        "import tensorflow as tf\n",
        "import tensorflow.keras\n",
        "import matplotlib.pyplot as plt\n",
        "from sklearn.metrics import accuracy_score\n",
        "from nltk.stem import WordNetLemmatizer\n",
        "from sklearn.model_selection import train_test_split\n",
        "import regex as re\n",
        "import transformers\n",
        "from keras import backend as K\n",
        "import plotly.express as px\n",
        "\n",
        "\n",
        "data=pd.read_csv('DataBase_MBTI.csv')\n",
        "data.head()"
      ]
    },
    {
      "cell_type": "code",
      "execution_count": null,
      "id": "3f0446af",
      "metadata": {
        "execution": {
          "iopub.execute_input": "2021-08-19T13:34:51.534570Z",
          "iopub.status.busy": "2021-08-19T13:34:51.526022Z",
          "iopub.status.idle": "2021-08-19T13:34:57.254276Z",
          "shell.execute_reply": "2021-08-19T13:34:57.253450Z",
          "shell.execute_reply.started": "2021-08-19T08:08:49.318165Z"
        },
        "papermill": {
          "duration": 5.769359,
          "end_time": "2021-08-19T13:34:57.254410",
          "exception": false,
          "start_time": "2021-08-19T13:34:51.485051",
          "status": "completed"
        },
        "tags": [],
        "id": "3f0446af",
        "outputId": "9addc9c4-095a-440a-9cfc-7b0b93cd5343"
      },
      "outputs": [
        {
          "name": "stdout",
          "output_type": "stream",
          "text": [
            "WARNING:tensorflow:Collective ops is not configured at program startup. Some performance features may not be enabled.\n",
            "INFO:tensorflow:Using MirroredStrategy with devices ('/job:localhost/replica:0/task:0/device:GPU:0',)\n",
            "REPLICAS:  1\n"
          ]
        }
      ],
      "source": [
        "use_tpu = False\n",
        "try:\n",
        "    tpu = tf.distribute.cluster_resolver.TPUClusterResolver()  # TPU detection\n",
        "    print('Running on TPU ', tpu.cluster_spec().as_dict()['worker'])\n",
        "except ValueError:\n",
        "    tpu = None\n",
        "\n",
        "if tpu:\n",
        "    tf.config.experimental_connect_to_cluster(tpu)\n",
        "    tf.tpu.experimental.initialize_tpu_system(tpu)\n",
        "    strategy = tf.distribute.experimental.TPUStrategy(tpu)\n",
        "else:\n",
        "    strategy = tf.distribute.MirroredStrategy()\n",
        "\n",
        "print(\"REPLICAS: \", strategy.num_replicas_in_sync)"
      ]
    },
    {
      "cell_type": "code",
      "execution_count": null,
      "id": "5d5022e3",
      "metadata": {
        "execution": {
          "iopub.execute_input": "2021-08-19T13:34:58.581825Z",
          "iopub.status.busy": "2021-08-19T13:34:58.580902Z",
          "iopub.status.idle": "2021-08-19T13:34:58.592032Z",
          "shell.execute_reply": "2021-08-19T13:34:58.591542Z",
          "shell.execute_reply.started": "2021-08-19T08:08:55.69926Z"
        },
        "papermill": {
          "duration": 0.042446,
          "end_time": "2021-08-19T13:34:58.592165",
          "exception": false,
          "start_time": "2021-08-19T13:34:58.549719",
          "status": "completed"
        },
        "tags": [],
        "id": "5d5022e3",
        "outputId": "ca8d0277-8e3d-44aa-9bc4-07e4c7d1dffa"
      },
      "outputs": [
        {
          "data": {
            "text/plain": [
              "INFP    1832\n",
              "INFJ    1470\n",
              "INTP    1304\n",
              "INTJ    1091\n",
              "ENTP     685\n",
              "ENFP     675\n",
              "ISTP     337\n",
              "ISFP     271\n",
              "ENTJ     231\n",
              "ISTJ     205\n",
              "ENFJ     190\n",
              "ISFJ     166\n",
              "ESTP      89\n",
              "ESFP      48\n",
              "ESFJ      42\n",
              "ESTJ      39\n",
              "Name: type, dtype: int64"
            ]
          },
          "execution_count": 4,
          "metadata": {},
          "output_type": "execute_result"
        }
      ],
      "source": [
        "data['type'].value_counts()"
      ]
    },
    {
      "cell_type": "code",
      "execution_count": null,
      "id": "3f5de932",
      "metadata": {
        "execution": {
          "iopub.execute_input": "2021-08-19T13:34:58.714339Z",
          "iopub.status.busy": "2021-08-19T13:34:58.713708Z",
          "iopub.status.idle": "2021-08-19T13:34:58.716376Z",
          "shell.execute_reply": "2021-08-19T13:34:58.715782Z",
          "shell.execute_reply.started": "2021-08-19T08:08:55.713096Z"
        },
        "papermill": {
          "duration": 0.037414,
          "end_time": "2021-08-19T13:34:58.716531",
          "exception": false,
          "start_time": "2021-08-19T13:34:58.679117",
          "status": "completed"
        },
        "tags": [],
        "id": "3f5de932"
      },
      "outputs": [],
      "source": [
        "def clean_text(data):\n",
        "    data_length=[]\n",
        "    lemmatizer=WordNetLemmatizer()\n",
        "    cleaned_text=[]\n",
        "    for sentence in tqdm(data.posts):\n",
        "        sentence=sentence.lower()\n",
        "        \n",
        "        #removing links from text data\n",
        "        sentence=re.sub('https?://[^\\s<>\"]+|www\\.[^\\s<>\"]+',' ',sentence)\n",
        "    \n",
        "        #removing other symbols\n",
        "        sentence=re.sub('[^0-9a-z]',' ',sentence)\n",
        "    \n",
        "        \n",
        "        data_length.append(len(sentence.split()))\n",
        "        cleaned_text.append(sentence)\n",
        "    return cleaned_text"
      ]
    },
    {
      "cell_type": "code",
      "execution_count": null,
      "id": "63a8403f",
      "metadata": {
        "execution": {
          "iopub.execute_input": "2021-08-19T13:34:58.777486Z",
          "iopub.status.busy": "2021-08-19T13:34:58.776885Z",
          "iopub.status.idle": "2021-08-19T13:35:09.873063Z",
          "shell.execute_reply": "2021-08-19T13:35:09.872582Z",
          "shell.execute_reply.started": "2021-08-19T08:08:55.721692Z"
        },
        "papermill": {
          "duration": 11.127428,
          "end_time": "2021-08-19T13:35:09.873208",
          "exception": false,
          "start_time": "2021-08-19T13:34:58.745780",
          "status": "completed"
        },
        "tags": [],
        "colab": {
          "referenced_widgets": [
            "45f95112ce4145c5a3bdd4e5933b9a86"
          ]
        },
        "id": "63a8403f",
        "outputId": "3b07c49f-c6f1-43a1-aa16-e9ef3354fd52"
      },
      "outputs": [
        {
          "data": {
            "application/vnd.jupyter.widget-view+json": {
              "model_id": "45f95112ce4145c5a3bdd4e5933b9a86",
              "version_major": 2,
              "version_minor": 0
            },
            "text/plain": [
              "  0%|          | 0/8675 [00:00<?, ?it/s]"
            ]
          },
          "metadata": {},
          "output_type": "display_data"
        },
        {
          "data": {
            "text/html": [
              "<div>\n",
              "<style scoped>\n",
              "    .dataframe tbody tr th:only-of-type {\n",
              "        vertical-align: middle;\n",
              "    }\n",
              "\n",
              "    .dataframe tbody tr th {\n",
              "        vertical-align: top;\n",
              "    }\n",
              "\n",
              "    .dataframe thead th {\n",
              "        text-align: right;\n",
              "    }\n",
              "</style>\n",
              "<table border=\"1\" class=\"dataframe\">\n",
              "  <thead>\n",
              "    <tr style=\"text-align: right;\">\n",
              "      <th></th>\n",
              "      <th>type</th>\n",
              "      <th>posts</th>\n",
              "    </tr>\n",
              "  </thead>\n",
              "  <tbody>\n",
              "    <tr>\n",
              "      <th>0</th>\n",
              "      <td>INFJ</td>\n",
              "      <td>and intj moments     sportscenter not top t...</td>\n",
              "    </tr>\n",
              "    <tr>\n",
              "      <th>1</th>\n",
              "      <td>ENTP</td>\n",
              "      <td>i m finding the lack of me in these posts ver...</td>\n",
              "    </tr>\n",
              "    <tr>\n",
              "      <th>2</th>\n",
              "      <td>INTP</td>\n",
              "      <td>good one            course  to which i say i ...</td>\n",
              "    </tr>\n",
              "    <tr>\n",
              "      <th>3</th>\n",
              "      <td>INTJ</td>\n",
              "      <td>dear intp    i enjoyed our conversation the o...</td>\n",
              "    </tr>\n",
              "    <tr>\n",
              "      <th>4</th>\n",
              "      <td>ENTJ</td>\n",
              "      <td>you re fired    that s another silly misconce...</td>\n",
              "    </tr>\n",
              "    <tr>\n",
              "      <th>...</th>\n",
              "      <td>...</td>\n",
              "      <td>...</td>\n",
              "    </tr>\n",
              "    <tr>\n",
              "      <th>8670</th>\n",
              "      <td>ISFP</td>\n",
              "      <td>just because i always think of cats as fi d...</td>\n",
              "    </tr>\n",
              "    <tr>\n",
              "      <th>8671</th>\n",
              "      <td>ENFP</td>\n",
              "      <td>so   if this thread already exists someplace ...</td>\n",
              "    </tr>\n",
              "    <tr>\n",
              "      <th>8672</th>\n",
              "      <td>INTP</td>\n",
              "      <td>so many questions when i do these things   i ...</td>\n",
              "    </tr>\n",
              "    <tr>\n",
              "      <th>8673</th>\n",
              "      <td>INFP</td>\n",
              "      <td>i am very conflicted right now when it comes ...</td>\n",
              "    </tr>\n",
              "    <tr>\n",
              "      <th>8674</th>\n",
              "      <td>INFP</td>\n",
              "      <td>it has been too long since i have been on per...</td>\n",
              "    </tr>\n",
              "  </tbody>\n",
              "</table>\n",
              "<p>8675 rows × 2 columns</p>\n",
              "</div>"
            ],
            "text/plain": [
              "      type                                              posts\n",
              "0     INFJ     and intj moments     sportscenter not top t...\n",
              "1     ENTP   i m finding the lack of me in these posts ver...\n",
              "2     INTP   good one            course  to which i say i ...\n",
              "3     INTJ   dear intp    i enjoyed our conversation the o...\n",
              "4     ENTJ   you re fired    that s another silly misconce...\n",
              "...    ...                                                ...\n",
              "8670  ISFP     just because i always think of cats as fi d...\n",
              "8671  ENFP   so   if this thread already exists someplace ...\n",
              "8672  INTP   so many questions when i do these things   i ...\n",
              "8673  INFP   i am very conflicted right now when it comes ...\n",
              "8674  INFP   it has been too long since i have been on per...\n",
              "\n",
              "[8675 rows x 2 columns]"
            ]
          },
          "execution_count": 7,
          "metadata": {},
          "output_type": "execute_result"
        }
      ],
      "source": [
        "data.posts = clean_text(data)\n",
        "data"
      ]
    },
    {
      "cell_type": "markdown",
      "id": "869d0daa",
      "metadata": {
        "papermill": {
          "duration": 0.029377,
          "end_time": "2021-08-19T13:35:09.932670",
          "exception": false,
          "start_time": "2021-08-19T13:35:09.903293",
          "status": "completed"
        },
        "tags": [],
        "id": "869d0daa"
      },
      "source": [
        "**Initialize BERT Tokenizer and attention masks******"
      ]
    },
    {
      "cell_type": "code",
      "execution_count": null,
      "id": "a9b139e2",
      "metadata": {
        "execution": {
          "iopub.execute_input": "2021-08-19T13:35:10.001439Z",
          "iopub.status.busy": "2021-08-19T13:35:10.000444Z",
          "iopub.status.idle": "2021-08-19T13:35:10.007943Z",
          "shell.execute_reply": "2021-08-19T13:35:10.007313Z",
          "shell.execute_reply.started": "2021-08-19T08:09:06.995916Z"
        },
        "papermill": {
          "duration": 0.045641,
          "end_time": "2021-08-19T13:35:10.008098",
          "exception": false,
          "start_time": "2021-08-19T13:35:09.962457",
          "status": "completed"
        },
        "tags": [],
        "id": "a9b139e2",
        "outputId": "aa30775d-d157-4666-c341-742fc9632fca"
      },
      "outputs": [
        {
          "data": {
            "text/plain": [
              "(6940, 1735)"
            ]
          },
          "execution_count": 8,
          "metadata": {},
          "output_type": "execute_result"
        }
      ],
      "source": [
        "#Split dataset\n",
        "from sklearn.model_selection import train_test_split\n",
        "\n",
        "posts = data['posts'].values\n",
        "labels =  data['type'].values\n",
        "train_data, test_data = train_test_split(data, random_state=0, test_size=0.2)\n",
        "\n",
        "train_size = len(train_data)\n",
        "test_size = len(test_data)\n",
        "train_size, test_size"
      ]
    },
    {
      "cell_type": "code",
      "execution_count": null,
      "id": "34fccc0a",
      "metadata": {
        "execution": {
          "iopub.execute_input": "2021-08-19T13:35:10.078464Z",
          "iopub.status.busy": "2021-08-19T13:35:10.077793Z",
          "iopub.status.idle": "2021-08-19T13:41:37.219150Z",
          "shell.execute_reply": "2021-08-19T13:41:37.219672Z",
          "shell.execute_reply.started": "2021-08-19T09:57:32.635536Z"
        },
        "papermill": {
          "duration": 387.181711,
          "end_time": "2021-08-19T13:41:37.219890",
          "exception": false,
          "start_time": "2021-08-19T13:35:10.038179",
          "status": "completed"
        },
        "tags": [],
        "colab": {
          "referenced_widgets": [
            "12b1512ec513467588643f0e70b5d8e5",
            "353ee677a6e94f709a2d605341e7d505"
          ]
        },
        "id": "34fccc0a",
        "outputId": "a71402a5-eab7-48a7-871b-e3ed99fa4616"
      },
      "outputs": [
        {
          "data": {
            "application/vnd.jupyter.widget-view+json": {
              "model_id": "12b1512ec513467588643f0e70b5d8e5",
              "version_major": 2,
              "version_minor": 0
            },
            "text/plain": [
              "  0%|          | 0/6940 [00:00<?, ?it/s]"
            ]
          },
          "metadata": {},
          "output_type": "display_data"
        },
        {
          "name": "stderr",
          "output_type": "stream",
          "text": [
            "Truncation was not explicitly activated but `max_length` is provided a specific value, please use `truncation=True` to explicitly truncate examples to max length. Defaulting to 'longest_first' truncation strategy. If you encode pairs of sequences (GLUE-style) with the tokenizer you can select this strategy more precisely by providing a specific strategy to `truncation`.\n"
          ]
        },
        {
          "data": {
            "application/vnd.jupyter.widget-view+json": {
              "model_id": "353ee677a6e94f709a2d605341e7d505",
              "version_major": 2,
              "version_minor": 0
            },
            "text/plain": [
              "  0%|          | 0/1735 [00:00<?, ?it/s]"
            ]
          },
          "metadata": {},
          "output_type": "display_data"
        }
      ],
      "source": [
        "#Initialize Bert tokenizer and masks\n",
        "from transformers import BertTokenizer\n",
        "from keras.preprocessing.sequence import pad_sequences\n",
        "\n",
        "bert_model_name = 'bert-base-uncased'\n",
        "\n",
        "tokenizer = BertTokenizer.from_pretrained(bert_model_name, do_lower_case=True)\n",
        "MAX_LEN = 1800\n",
        "\n",
        "def tokenize_sentences(sentences, tokenizer, max_seq_len = 1800):\n",
        "    tokenized_sentences = []\n",
        "\n",
        "    for sentence in tqdm(sentences):\n",
        "        tokenized_sentence = tokenizer.encode(\n",
        "                            sentence,                 \n",
        "                            add_special_tokens = True, \n",
        "                            max_length = max_seq_len, \n",
        "                    )\n",
        "        \n",
        "        tokenized_sentences.append(tokenized_sentence)\n",
        "        \n",
        "    return tokenized_sentences\n",
        "\n",
        "def create_attention_masks(tokenized_and_padded_sentences):\n",
        "    attention_masks = []\n",
        "\n",
        "    for sentence in tokenized_and_padded_sentences:\n",
        "        att_mask = [int(token_id > 0) for token_id in sentence]\n",
        "        attention_masks.append(att_mask)\n",
        "\n",
        "    return np.asarray(attention_masks)\n",
        "\n",
        "train_input_ids = tokenize_sentences(train_data['posts'], tokenizer, MAX_LEN)\n",
        "train_input_ids = pad_sequences(train_input_ids, maxlen=MAX_LEN, dtype=\"long\", value=0, truncating=\"post\", padding=\"post\")\n",
        "train_attention_masks = create_attention_masks(train_input_ids)\n",
        "\n",
        "test_input_ids = tokenize_sentences(test_data['posts'], tokenizer, MAX_LEN)\n",
        "test_input_ids = pad_sequences(test_input_ids, maxlen=MAX_LEN, dtype=\"long\", value=0, truncating=\"post\", padding=\"post\")\n",
        "test_attention_masks = create_attention_masks(test_input_ids)"
      ]
    },
    {
      "cell_type": "code",
      "execution_count": null,
      "id": "869d9147",
      "metadata": {
        "execution": {
          "iopub.execute_input": "2021-08-19T13:41:37.365493Z",
          "iopub.status.busy": "2021-08-19T13:41:37.364621Z",
          "iopub.status.idle": "2021-08-19T13:41:37.367934Z",
          "shell.execute_reply": "2021-08-19T13:41:37.368734Z",
          "shell.execute_reply.started": "2021-08-19T08:15:36.370042Z"
        },
        "papermill": {
          "duration": 0.043857,
          "end_time": "2021-08-19T13:41:37.369000",
          "exception": false,
          "start_time": "2021-08-19T13:41:37.325143",
          "status": "completed"
        },
        "tags": [],
        "id": "869d9147"
      },
      "outputs": [],
      "source": [
        "BATCH_SIZE=32 \n",
        "NR_EPOCHS=20"
      ]
    },
    {
      "cell_type": "markdown",
      "id": "b6b96094",
      "metadata": {
        "papermill": {
          "duration": 0.042184,
          "end_time": "2021-08-19T13:41:37.448306",
          "exception": false,
          "start_time": "2021-08-19T13:41:37.406122",
          "status": "completed"
        },
        "tags": [],
        "id": "b6b96094"
      },
      "source": [
        "# BERT Model"
      ]
    },
    {
      "cell_type": "code",
      "execution_count": null,
      "id": "580b9c0b",
      "metadata": {
        "execution": {
          "iopub.execute_input": "2021-08-19T13:41:37.603095Z",
          "iopub.status.busy": "2021-08-19T13:41:37.602373Z",
          "iopub.status.idle": "2021-08-19T13:41:37.611320Z",
          "shell.execute_reply": "2021-08-19T13:41:37.610716Z",
          "shell.execute_reply.started": "2021-08-19T08:15:36.405013Z"
        },
        "papermill": {
          "duration": 0.044195,
          "end_time": "2021-08-19T13:41:37.611475",
          "exception": false,
          "start_time": "2021-08-19T13:41:37.567280",
          "status": "completed"
        },
        "tags": [],
        "id": "580b9c0b"
      },
      "outputs": [],
      "source": [
        "#Define f1 functions for evaluation\n",
        "def f1_m(y_true, y_pred):\n",
        "    precision = precision_m(y_true, y_pred)\n",
        "    recall = recall_m(y_true, y_pred)\n",
        "    return 2*((precision*recall)/(precision+recall+K.epsilon()))\n",
        "\n",
        "def recall_m(y_true, y_pred):\n",
        "    true_positives = K.sum(K.round(K.clip(y_true * y_pred, 0, 1)))\n",
        "    possible_positives = K.sum(K.round(K.clip(y_true, 0, 1)))\n",
        "    recall = true_positives / (possible_positives + K.epsilon())\n",
        "    return recall\n",
        "\n",
        "def precision_m(y_true, y_pred):\n",
        "    true_positives = K.sum(K.round(K.clip(y_true * y_pred, 0, 1)))\n",
        "    predicted_positives = K.sum(K.round(K.clip(y_pred, 0, 1)))\n",
        "    precision = true_positives / (predicted_positives + K.epsilon())\n",
        "    return precision"
      ]
    },
    {
      "cell_type": "code",
      "execution_count": null,
      "id": "87a9cb0e",
      "metadata": {
        "execution": {
          "iopub.execute_input": "2021-08-19T13:41:37.685001Z",
          "iopub.status.busy": "2021-08-19T13:41:37.684263Z",
          "iopub.status.idle": "2021-08-19T13:41:37.687058Z",
          "shell.execute_reply": "2021-08-19T13:41:37.687575Z",
          "shell.execute_reply.started": "2021-08-19T08:15:36.419314Z"
        },
        "papermill": {
          "duration": 0.043643,
          "end_time": "2021-08-19T13:41:37.687752",
          "exception": false,
          "start_time": "2021-08-19T13:41:37.644109",
          "status": "completed"
        },
        "tags": [],
        "id": "87a9cb0e"
      },
      "outputs": [],
      "source": [
        "def create_model(): \n",
        "    input_word_ids = tf.keras.layers.Input(shape=(MAX_LEN,), dtype=tf.int32,\n",
        "                                           name=\"input_word_ids\")\n",
        "    bert_layer = transformers.TFBertModel.from_pretrained('bert-large-uncased')\n",
        "    bert_outputs = bert_layer(input_word_ids)[0]\n",
        "    pred = tf.keras.layers.Dense(16, activation='softmax')(bert_outputs[:,0,:])\n",
        "    \n",
        "    model = tf.keras.models.Model(inputs=input_word_ids, outputs=pred)\n",
        "    loss = tf.keras.losses.SparseCategoricalCrossentropy(from_logits=True)\n",
        "    model.compile(loss='categorical_crossentropy', optimizer=tf.keras.optimizers.Adam(\n",
        "    learning_rate=0.00002), metrics=['accuracy', f1_m, precision_m, recall_m])\n",
        "    return model"
      ]
    },
    {
      "cell_type": "code",
      "execution_count": null,
      "id": "83e6c97d",
      "metadata": {
        "execution": {
          "iopub.execute_input": "2021-08-19T13:41:37.760575Z",
          "iopub.status.busy": "2021-08-19T13:41:37.759854Z",
          "iopub.status.idle": "2021-08-19T13:43:21.045019Z",
          "shell.execute_reply": "2021-08-19T13:43:21.044300Z",
          "shell.execute_reply.started": "2021-08-19T08:15:36.44022Z"
        },
        "papermill": {
          "duration": 103.324899,
          "end_time": "2021-08-19T13:43:21.045239",
          "exception": false,
          "start_time": "2021-08-19T13:41:37.720340",
          "status": "completed"
        },
        "tags": [],
        "id": "83e6c97d",
        "outputId": "d3a59ff4-b611-4c5b-9dbf-e8780b921ac6"
      },
      "outputs": [
        {
          "name": "stderr",
          "output_type": "stream",
          "text": [
            "Some layers from the model checkpoint at bert-large-uncased were not used when initializing TFBertModel: ['mlm___cls', 'nsp___cls']\n",
            "- This IS expected if you are initializing TFBertModel from the checkpoint of a model trained on another task or with another architecture (e.g. initializing a BertForSequenceClassification model from a BertForPreTraining model).\n",
            "- This IS NOT expected if you are initializing TFBertModel from the checkpoint of a model that you expect to be exactly identical (initializing a BertForSequenceClassification model from a BertForSequenceClassification model).\n",
            "All the layers of TFBertModel were initialized from the model checkpoint at bert-large-uncased.\n",
            "If your task is similar to the task the model of the checkpoint was trained on, you can already use TFBertModel for predictions without further training.\n"
          ]
        },
        {
          "name": "stdout",
          "output_type": "stream",
          "text": [
            "WARNING:tensorflow:AutoGraph could not transform <function input_processing at 0x000001FF7BD6A820> and will run it as-is.\n",
            "Please report this to the TensorFlow team. When filing the bug, set the verbosity to 10 (on Linux, `export AUTOGRAPH_VERBOSITY=10`) and attach the full output.\n",
            "Cause: '<' not supported between instances of 'str' and 'Literal'\n",
            "To silence this warning, decorate the function with @tf.autograph.experimental.do_not_convert\n",
            "WARNING: AutoGraph could not transform <function input_processing at 0x000001FF7BD6A820> and will run it as-is.\n",
            "Please report this to the TensorFlow team. When filing the bug, set the verbosity to 10 (on Linux, `export AUTOGRAPH_VERBOSITY=10`) and attach the full output.\n",
            "Cause: '<' not supported between instances of 'str' and 'Literal'\n",
            "To silence this warning, decorate the function with @tf.autograph.experimental.do_not_convert\n",
            "WARNING:tensorflow:From D:\\anaconda\\envs\\tf2\\lib\\site-packages\\tensorflow\\python\\ops\\array_ops.py:5043: calling gather (from tensorflow.python.ops.array_ops) with validate_indices is deprecated and will be removed in a future version.\n",
            "Instructions for updating:\n",
            "The `validate_indices` argument has no effect. Indices are always validated on CPU and never validated on GPU.\n",
            "Model: \"model\"\n",
            "_________________________________________________________________\n",
            "Layer (type)                 Output Shape              Param #   \n",
            "=================================================================\n",
            "input_word_ids (InputLayer)  [(None, 1800)]            0         \n",
            "_________________________________________________________________\n",
            "tf_bert_model (TFBertModel)  TFBaseModelOutputWithPool 335141888 \n",
            "_________________________________________________________________\n",
            "tf.__operators__.getitem (Sl (None, 1024)              0         \n",
            "_________________________________________________________________\n",
            "dense (Dense)                (None, 16)                16400     \n",
            "=================================================================\n",
            "Total params: 335,158,288\n",
            "Trainable params: 335,158,288\n",
            "Non-trainable params: 0\n",
            "_________________________________________________________________\n"
          ]
        }
      ],
      "source": [
        "use_tpu = False\n",
        "if use_tpu:\n",
        "    # Create distribution strategy\n",
        "    tpu = tf.distribute.cluster_resolver.TPUClusterResolver()\n",
        "    tf.config.experimental_connect_to_cluster(tpu)\n",
        "    tf.tpu.experimental.initialize_tpu_system(tpu)\n",
        "    strategy = tf.distribute.experimental.TPUStrategy(tpu)\n",
        "\n",
        "    # Create model\n",
        "    with strategy.scope():\n",
        "        model = create_model()\n",
        "else:\n",
        "    model = create_model()\n",
        "    \n",
        "model.summary()"
      ]
    },
    {
      "cell_type": "code",
      "execution_count": null,
      "id": "b5b79269",
      "metadata": {
        "execution": {
          "iopub.execute_input": "2021-08-19T13:43:21.130798Z",
          "iopub.status.busy": "2021-08-19T13:43:21.129947Z",
          "iopub.status.idle": "2021-08-19T13:43:21.133015Z",
          "shell.execute_reply": "2021-08-19T13:43:21.133522Z",
          "shell.execute_reply.started": "2021-08-19T08:17:23.311376Z"
        },
        "papermill": {
          "duration": 0.052362,
          "end_time": "2021-08-19T13:43:21.133693",
          "exception": false,
          "start_time": "2021-08-19T13:43:21.081331",
          "status": "completed"
        },
        "tags": [],
        "id": "b5b79269"
      },
      "outputs": [],
      "source": [
        "types = np.unique(data.type.values)\n",
        "\n",
        "def get_type_index(string):\n",
        "    return list(types).index(string)"
      ]
    },
    {
      "cell_type": "code",
      "execution_count": null,
      "id": "37f094a7",
      "metadata": {
        "execution": {
          "iopub.execute_input": "2021-08-19T13:43:21.206558Z",
          "iopub.status.busy": "2021-08-19T13:43:21.205594Z",
          "iopub.status.idle": "2021-08-19T13:43:21.246902Z",
          "shell.execute_reply": "2021-08-19T13:43:21.246243Z",
          "shell.execute_reply.started": "2021-08-19T08:17:23.332504Z"
        },
        "papermill": {
          "duration": 0.078768,
          "end_time": "2021-08-19T13:43:21.247042",
          "exception": false,
          "start_time": "2021-08-19T13:43:21.168274",
          "status": "completed"
        },
        "tags": [],
        "id": "37f094a7",
        "outputId": "d1f23057-27d7-41d7-a12c-24acf8a937ff"
      },
      "outputs": [
        {
          "data": {
            "text/html": [
              "<div>\n",
              "<style scoped>\n",
              "    .dataframe tbody tr th:only-of-type {\n",
              "        vertical-align: middle;\n",
              "    }\n",
              "\n",
              "    .dataframe tbody tr th {\n",
              "        vertical-align: top;\n",
              "    }\n",
              "\n",
              "    .dataframe thead th {\n",
              "        text-align: right;\n",
              "    }\n",
              "</style>\n",
              "<table border=\"1\" class=\"dataframe\">\n",
              "  <thead>\n",
              "    <tr style=\"text-align: right;\">\n",
              "      <th></th>\n",
              "      <th>type</th>\n",
              "      <th>posts</th>\n",
              "      <th>type_index</th>\n",
              "    </tr>\n",
              "  </thead>\n",
              "  <tbody>\n",
              "    <tr>\n",
              "      <th>984</th>\n",
              "      <td>INTP</td>\n",
              "      <td>phrases i never want to hear again a k a if yo...</td>\n",
              "      <td>11</td>\n",
              "    </tr>\n",
              "    <tr>\n",
              "      <th>6706</th>\n",
              "      <td>INTP</td>\n",
              "      <td>yeah  you say you primarily value people who ...</td>\n",
              "      <td>11</td>\n",
              "    </tr>\n",
              "    <tr>\n",
              "      <th>143</th>\n",
              "      <td>ENFP</td>\n",
              "      <td>63915 i got my hair cut   d some people say t...</td>\n",
              "      <td>1</td>\n",
              "    </tr>\n",
              "    <tr>\n",
              "      <th>4844</th>\n",
              "      <td>INFP</td>\n",
              "      <td>as far as i live in this world  i ve never bee...</td>\n",
              "      <td>9</td>\n",
              "    </tr>\n",
              "    <tr>\n",
              "      <th>4388</th>\n",
              "      <td>ISFP</td>\n",
              "      <td>meh it s overplayed ya but still its good n...</td>\n",
              "      <td>13</td>\n",
              "    </tr>\n",
              "    <tr>\n",
              "      <th>...</th>\n",
              "      <td>...</td>\n",
              "      <td>...</td>\n",
              "      <td>...</td>\n",
              "    </tr>\n",
              "    <tr>\n",
              "      <th>4373</th>\n",
              "      <td>INFP</td>\n",
              "      <td>hey  it seems like you have a great foundatio...</td>\n",
              "      <td>9</td>\n",
              "    </tr>\n",
              "    <tr>\n",
              "      <th>7891</th>\n",
              "      <td>INFJ</td>\n",
              "      <td>dear istj mother    when i started my very fi...</td>\n",
              "      <td>8</td>\n",
              "    </tr>\n",
              "    <tr>\n",
              "      <th>4859</th>\n",
              "      <td>INTP</td>\n",
              "      <td>oh entjs  how can you be scary and exciting a...</td>\n",
              "      <td>11</td>\n",
              "    </tr>\n",
              "    <tr>\n",
              "      <th>3264</th>\n",
              "      <td>ENFJ</td>\n",
              "      <td>hi  entp  and welcome to the forum  wink    f...</td>\n",
              "      <td>0</td>\n",
              "    </tr>\n",
              "    <tr>\n",
              "      <th>2732</th>\n",
              "      <td>ENTP</td>\n",
              "      <td>interesting  you ve gone from se dominant to n...</td>\n",
              "      <td>3</td>\n",
              "    </tr>\n",
              "  </tbody>\n",
              "</table>\n",
              "<p>6940 rows × 3 columns</p>\n",
              "</div>"
            ],
            "text/plain": [
              "      type                                              posts  type_index\n",
              "984   INTP  phrases i never want to hear again a k a if yo...          11\n",
              "6706  INTP   yeah  you say you primarily value people who ...          11\n",
              "143   ENFP   63915 i got my hair cut   d some people say t...           1\n",
              "4844  INFP  as far as i live in this world  i ve never bee...           9\n",
              "4388  ISFP     meh it s overplayed ya but still its good n...          13\n",
              "...    ...                                                ...         ...\n",
              "4373  INFP   hey  it seems like you have a great foundatio...           9\n",
              "7891  INFJ   dear istj mother    when i started my very fi...           8\n",
              "4859  INTP   oh entjs  how can you be scary and exciting a...          11\n",
              "3264  ENFJ   hi  entp  and welcome to the forum  wink    f...           0\n",
              "2732  ENTP  interesting  you ve gone from se dominant to n...           3\n",
              "\n",
              "[6940 rows x 3 columns]"
            ]
          },
          "execution_count": 16,
          "metadata": {},
          "output_type": "execute_result"
        }
      ],
      "source": [
        "train_data['type_index'] = data['type'].apply(get_type_index)\n",
        "train_data"
      ]
    },
    {
      "cell_type": "code",
      "execution_count": null,
      "id": "7aee854f",
      "metadata": {
        "execution": {
          "iopub.execute_input": "2021-08-19T13:43:21.323190Z",
          "iopub.status.busy": "2021-08-19T13:43:21.322568Z",
          "iopub.status.idle": "2021-08-19T13:43:21.326005Z",
          "shell.execute_reply": "2021-08-19T13:43:21.325471Z",
          "shell.execute_reply.started": "2021-08-19T08:17:23.379793Z"
        },
        "papermill": {
          "duration": 0.04354,
          "end_time": "2021-08-19T13:43:21.326142",
          "exception": false,
          "start_time": "2021-08-19T13:43:21.282602",
          "status": "completed"
        },
        "tags": [],
        "id": "7aee854f"
      },
      "outputs": [],
      "source": [
        "one_hot_labels = tf.keras.utils.to_categorical(train_data.type_index.values, num_classes=16)"
      ]
    },
    {
      "cell_type": "code",
      "execution_count": null,
      "id": "31091144",
      "metadata": {
        "execution": {
          "iopub.execute_input": "2021-08-19T13:43:21.402068Z",
          "iopub.status.busy": "2021-08-19T13:43:21.401383Z",
          "iopub.status.idle": "2021-08-19T15:19:43.570732Z",
          "shell.execute_reply": "2021-08-19T15:19:43.571195Z",
          "shell.execute_reply.started": "2021-08-19T08:17:23.387239Z"
        },
        "papermill": {
          "duration": 5782.20989,
          "end_time": "2021-08-19T15:19:43.571387",
          "exception": false,
          "start_time": "2021-08-19T13:43:21.361497",
          "status": "completed"
        },
        "tags": [],
        "id": "31091144",
        "outputId": "179d84b3-0710-48fc-f008-729e15aaea31"
      },
      "outputs": [
        {
          "name": "stdout",
          "output_type": "stream",
          "text": [
            "Epoch 1/20\n",
            "217/217 [==============================] - 424s 1s/step - loss: 2.3592 - accuracy: 0.2082 - f1_m: 0.0034 - precision_m: 0.0078 - recall_m: 0.0023\n",
            "Epoch 2/20\n",
            "217/217 [==============================] - 282s 1s/step - loss: 1.6139 - accuracy: 0.5081 - f1_m: 0.3892 - precision_m: 0.5841 - recall_m: 0.3138\n",
            "Epoch 3/20\n",
            "217/217 [==============================] - 282s 1s/step - loss: 1.3085 - accuracy: 0.6096 - f1_m: 0.5700 - precision_m: 0.7232 - recall_m: 0.4947\n",
            "Epoch 4/20\n",
            "217/217 [==============================] - 282s 1s/step - loss: 1.0612 - accuracy: 0.6760 - f1_m: 0.6529 - precision_m: 0.7718 - recall_m: 0.5865\n",
            "Epoch 5/20\n",
            "217/217 [==============================] - 282s 1s/step - loss: 0.9239 - accuracy: 0.7259 - f1_m: 0.7059 - precision_m: 0.8155 - recall_m: 0.6421\n",
            "Epoch 6/20\n",
            "217/217 [==============================] - 282s 1s/step - loss: 0.8511 - accuracy: 0.7424 - f1_m: 0.7289 - precision_m: 0.8218 - recall_m: 0.6733\n",
            "Epoch 7/20\n",
            "217/217 [==============================] - 282s 1s/step - loss: 0.6885 - accuracy: 0.7986 - f1_m: 0.7844 - precision_m: 0.8613 - recall_m: 0.7366\n",
            "Epoch 8/20\n",
            "217/217 [==============================] - 282s 1s/step - loss: 0.5198 - accuracy: 0.8457 - f1_m: 0.8437 - precision_m: 0.8889 - recall_m: 0.8124\n",
            "Epoch 9/20\n",
            "217/217 [==============================] - 282s 1s/step - loss: 0.3953 - accuracy: 0.8848 - f1_m: 0.8787 - precision_m: 0.9161 - recall_m: 0.8526\n",
            "Epoch 10/20\n",
            "217/217 [==============================] - 282s 1s/step - loss: 0.2553 - accuracy: 0.9256 - f1_m: 0.9240 - precision_m: 0.9463 - recall_m: 0.9084\n",
            "Epoch 11/20\n",
            "217/217 [==============================] - 282s 1s/step - loss: 0.1748 - accuracy: 0.9494 - f1_m: 0.9479 - precision_m: 0.9622 - recall_m: 0.9374\n",
            "Epoch 12/20\n",
            "217/217 [==============================] - 282s 1s/step - loss: 0.1114 - accuracy: 0.9694 - f1_m: 0.9684 - precision_m: 0.9750 - recall_m: 0.9635\n",
            "Epoch 13/20\n",
            "217/217 [==============================] - 282s 1s/step - loss: 0.0875 - accuracy: 0.9762 - f1_m: 0.9750 - precision_m: 0.9799 - recall_m: 0.9713\n",
            "Epoch 14/20\n",
            "217/217 [==============================] - 282s 1s/step - loss: 0.0774 - accuracy: 0.9756 - f1_m: 0.9753 - precision_m: 0.9788 - recall_m: 0.9727\n",
            "Epoch 15/20\n",
            "217/217 [==============================] - 282s 1s/step - loss: 0.0938 - accuracy: 0.9719 - f1_m: 0.9721 - precision_m: 0.9760 - recall_m: 0.9691\n",
            "Epoch 16/20\n",
            "217/217 [==============================] - 282s 1s/step - loss: 0.0744 - accuracy: 0.9773 - f1_m: 0.9765 - precision_m: 0.9802 - recall_m: 0.9739\n",
            "Epoch 17/20\n",
            "217/217 [==============================] - 282s 1s/step - loss: 0.0531 - accuracy: 0.9823 - f1_m: 0.9823 - precision_m: 0.9847 - recall_m: 0.9806\n",
            "Epoch 18/20\n",
            "217/217 [==============================] - 282s 1s/step - loss: 0.0619 - accuracy: 0.9789 - f1_m: 0.9794 - precision_m: 0.9819 - recall_m: 0.9776\n",
            "Epoch 19/20\n",
            "217/217 [==============================] - 282s 1s/step - loss: 0.0365 - accuracy: 0.9891 - f1_m: 0.9894 - precision_m: 0.9903 - recall_m: 0.9886\n",
            "Epoch 20/20\n",
            "217/217 [==============================] - 282s 1s/step - loss: 0.0452 - accuracy: 0.9860 - f1_m: 0.9857 - precision_m: 0.9868 - recall_m: 0.9848\n"
          ]
        },
        {
          "data": {
            "text/plain": [
              "<tensorflow.python.keras.callbacks.History at 0x7fc437d47150>"
            ]
          },
          "execution_count": 18,
          "metadata": {},
          "output_type": "execute_result"
        }
      ],
      "source": [
        "\n",
        "model.fit(np.array(train_input_ids), one_hot_labels, verbose = 1, epochs = NR_EPOCHS, batch_size = BATCH_SIZE,  callbacks = [tf.keras.callbacks.EarlyStopping(patience = 5)])"
      ]
    },
    {
      "cell_type": "markdown",
      "id": "7d72ce69",
      "metadata": {
        "papermill": {
          "duration": 1.365397,
          "end_time": "2021-08-19T15:19:46.311291",
          "exception": false,
          "start_time": "2021-08-19T15:19:44.945894",
          "status": "completed"
        },
        "tags": [],
        "id": "7d72ce69"
      },
      "source": [
        "**Run test and evaluate accuracy**"
      ]
    },
    {
      "cell_type": "code",
      "execution_count": null,
      "id": "06a24f95",
      "metadata": {
        "id": "06a24f95"
      },
      "outputs": [],
      "source": [
        "test_data['type_index'] = data['type'].apply(get_type_index)"
      ]
    },
    {
      "cell_type": "code",
      "execution_count": null,
      "id": "08dcaa02",
      "metadata": {
        "execution": {
          "iopub.execute_input": "2021-08-19T15:19:51.827030Z",
          "iopub.status.busy": "2021-08-19T15:19:51.825976Z",
          "iopub.status.idle": "2021-08-19T15:19:51.828570Z",
          "shell.execute_reply": "2021-08-19T15:19:51.829047Z",
          "shell.execute_reply.started": "2021-08-19T09:53:52.117847Z"
        },
        "papermill": {
          "duration": 1.381716,
          "end_time": "2021-08-19T15:19:51.829235",
          "exception": false,
          "start_time": "2021-08-19T15:19:50.447519",
          "status": "completed"
        },
        "tags": [],
        "id": "08dcaa02"
      },
      "outputs": [],
      "source": [
        "test_labels = tf.keras.utils.to_categorical(test_data.type_index.values, num_classes=16)"
      ]
    },
    {
      "cell_type": "code",
      "execution_count": null,
      "id": "e207f349",
      "metadata": {
        "execution": {
          "iopub.execute_input": "2021-08-19T15:19:54.626718Z",
          "iopub.status.busy": "2021-08-19T15:19:54.624519Z",
          "iopub.status.idle": "2021-08-19T15:20:38.887303Z",
          "shell.execute_reply": "2021-08-19T15:20:38.886760Z",
          "shell.execute_reply.started": "2021-08-19T09:53:52.124959Z"
        },
        "papermill": {
          "duration": 45.685108,
          "end_time": "2021-08-19T15:20:38.887489",
          "exception": false,
          "start_time": "2021-08-19T15:19:53.202381",
          "status": "completed"
        },
        "tags": [],
        "id": "e207f349",
        "outputId": "5cc162dc-f155-462f-9fb8-dc687dc84d41"
      },
      "outputs": [
        {
          "name": "stdout",
          "output_type": "stream",
          "text": [
            "55/55 [==============================] - 44s 469ms/step - loss: 1.8708 - accuracy: 0.6945 - f1_m: 0.6945 - precision_m: 0.7116 - recall_m: 0.6818\n"
          ]
        },
        {
          "data": {
            "text/plain": [
              "[1.8708125352859497,\n",
              " 0.6945245265960693,\n",
              " 0.6945076584815979,\n",
              " 0.7115530371665955,\n",
              " 0.6818181872367859]"
            ]
          },
          "execution_count": 21,
          "metadata": {},
          "output_type": "execute_result"
        }
      ],
      "source": [
        "model.evaluate(np.array(test_input_ids), test_labels)"
      ]
    },
    {
      "cell_type": "code",
      "execution_count": null,
      "id": "6d983c5e",
      "metadata": {
        "execution": {
          "iopub.execute_input": "2021-08-19T15:20:44.469094Z",
          "iopub.status.busy": "2021-08-19T15:20:44.468052Z",
          "iopub.status.idle": "2021-08-19T15:20:44.470702Z",
          "shell.execute_reply": "2021-08-19T15:20:44.471559Z"
        },
        "papermill": {
          "duration": 1.421151,
          "end_time": "2021-08-19T15:20:44.471797",
          "exception": false,
          "start_time": "2021-08-19T15:20:43.050646",
          "status": "completed"
        },
        "tags": [],
        "id": "6d983c5e"
      },
      "outputs": [],
      "source": [
        "cols = data['type'].unique()\n",
        "cols = cols.tolist()\n",
        "\n",
        "colnames = ['sentence']\n",
        "colnames = colnames+cols\n"
      ]
    },
    {
      "cell_type": "code",
      "execution_count": null,
      "id": "56ae6019",
      "metadata": {
        "execution": {
          "iopub.execute_input": "2021-08-19T15:20:47.251666Z",
          "iopub.status.busy": "2021-08-19T15:20:47.250439Z",
          "iopub.status.idle": "2021-08-19T15:20:47.263300Z",
          "shell.execute_reply": "2021-08-19T15:20:47.262637Z"
        },
        "papermill": {
          "duration": 1.394285,
          "end_time": "2021-08-19T15:20:47.263468",
          "exception": false,
          "start_time": "2021-08-19T15:20:45.869183",
          "status": "completed"
        },
        "tags": [],
        "id": "56ae6019"
      },
      "outputs": [],
      "source": [
        "\n",
        "df_predict = pd.DataFrame(columns = colnames)\n",
        "sentence = \"Time to debate on it. Strike at the weakest point and make others cry with facts\"\n",
        "\n",
        "df_predict.loc[0, 'sentence'] = sentence"
      ]
    },
    {
      "cell_type": "code",
      "execution_count": null,
      "id": "b563a7a1",
      "metadata": {
        "execution": {
          "iopub.execute_input": "2021-08-19T15:20:50.165012Z",
          "iopub.status.busy": "2021-08-19T15:20:50.164254Z",
          "iopub.status.idle": "2021-08-19T15:21:07.802602Z",
          "shell.execute_reply": "2021-08-19T15:21:07.801906Z"
        },
        "papermill": {
          "duration": 19.052665,
          "end_time": "2021-08-19T15:21:07.802748",
          "exception": false,
          "start_time": "2021-08-19T15:20:48.750083",
          "status": "completed"
        },
        "tags": [],
        "colab": {
          "referenced_widgets": [
            "6699d444b34647309df8cdb19a5f399c"
          ]
        },
        "id": "b563a7a1",
        "outputId": "7541d2f9-10ad-43f4-97af-c80bee7ed9db"
      },
      "outputs": [
        {
          "data": {
            "application/vnd.jupyter.widget-view+json": {
              "model_id": "6699d444b34647309df8cdb19a5f399c",
              "version_major": 2,
              "version_minor": 0
            },
            "text/plain": [
              "  0%|          | 0/1 [00:00<?, ?it/s]"
            ]
          },
          "metadata": {},
          "output_type": "display_data"
        },
        {
          "data": {
            "text/html": [
              "<div>\n",
              "<style scoped>\n",
              "    .dataframe tbody tr th:only-of-type {\n",
              "        vertical-align: middle;\n",
              "    }\n",
              "\n",
              "    .dataframe tbody tr th {\n",
              "        vertical-align: top;\n",
              "    }\n",
              "\n",
              "    .dataframe thead th {\n",
              "        text-align: right;\n",
              "    }\n",
              "</style>\n",
              "<table border=\"1\" class=\"dataframe\">\n",
              "  <thead>\n",
              "    <tr style=\"text-align: right;\">\n",
              "      <th></th>\n",
              "      <th>sentence</th>\n",
              "      <th>INFJ</th>\n",
              "      <th>ENTP</th>\n",
              "      <th>INTP</th>\n",
              "      <th>INTJ</th>\n",
              "      <th>ENTJ</th>\n",
              "      <th>ENFJ</th>\n",
              "      <th>INFP</th>\n",
              "      <th>ENFP</th>\n",
              "      <th>ISFP</th>\n",
              "      <th>ISTP</th>\n",
              "      <th>ISFJ</th>\n",
              "      <th>ISTJ</th>\n",
              "      <th>ESTP</th>\n",
              "      <th>ESFP</th>\n",
              "      <th>ESTJ</th>\n",
              "      <th>ESFJ</th>\n",
              "    </tr>\n",
              "  </thead>\n",
              "  <tbody>\n",
              "    <tr>\n",
              "      <th>0</th>\n",
              "      <td>Time to debate on it. Strike at the weakest po...</td>\n",
              "      <td>0.014544</td>\n",
              "      <td>0.019483</td>\n",
              "      <td>0.000535</td>\n",
              "      <td>0.02171</td>\n",
              "      <td>0.000376</td>\n",
              "      <td>0.000605</td>\n",
              "      <td>0.00058</td>\n",
              "      <td>0.000167</td>\n",
              "      <td>0.044402</td>\n",
              "      <td>0.041866</td>\n",
              "      <td>0.010097</td>\n",
              "      <td>0.816447</td>\n",
              "      <td>0.00018</td>\n",
              "      <td>0.002427</td>\n",
              "      <td>0.001249</td>\n",
              "      <td>0.025331</td>\n",
              "    </tr>\n",
              "  </tbody>\n",
              "</table>\n",
              "</div>"
            ],
            "text/plain": [
              "                                            sentence      INFJ      ENTP  \\\n",
              "0  Time to debate on it. Strike at the weakest po...  0.014544  0.019483   \n",
              "\n",
              "       INTP     INTJ      ENTJ      ENFJ     INFP      ENFP      ISFP  \\\n",
              "0  0.000535  0.02171  0.000376  0.000605  0.00058  0.000167  0.044402   \n",
              "\n",
              "       ISTP      ISFJ      ISTJ     ESTP      ESFP      ESTJ      ESFJ  \n",
              "0  0.041866  0.010097  0.816447  0.00018  0.002427  0.001249  0.025331  "
            ]
          },
          "execution_count": 24,
          "metadata": {},
          "output_type": "execute_result"
        }
      ],
      "source": [
        "sentence_inputs = tokenize_sentences(df_predict['sentence'], tokenizer, MAX_LEN)\n",
        "sentence_inputs = pad_sequences(sentence_inputs, maxlen=MAX_LEN, dtype=\"long\", value=0, truncating=\"post\", padding=\"post\")\n",
        "prediction = model.predict(np.array(sentence_inputs))\n",
        "df_predict.loc[0, cols] = prediction\n",
        "\n",
        "df_predict"
      ]
    },
    {
      "cell_type": "markdown",
      "source": [
        "BERT has a good performance, but it has to be mentioned that BERT has relatively high hardware requirements and we may use this algorithm when building our website, but it does not perform very well, only well, so it is possible that we will not use it"
      ],
      "metadata": {
        "id": "Ud2PULVVPdGu"
      },
      "id": "Ud2PULVVPdGu"
    }
  ],
  "metadata": {
    "kernelspec": {
      "display_name": "Python 3 (ipykernel)",
      "language": "python",
      "name": "python3"
    },
    "language_info": {
      "codemirror_mode": {
        "name": "ipython",
        "version": 3
      },
      "file_extension": ".py",
      "mimetype": "text/x-python",
      "name": "python",
      "nbconvert_exporter": "python",
      "pygments_lexer": "ipython3",
      "version": "3.8.16"
    },
    "papermill": {
      "default_parameters": {},
      "duration": 6404.144587,
      "end_time": "2021-08-19T15:21:15.312149",
      "environment_variables": {},
      "exception": null,
      "input_path": "__notebook__.ipynb",
      "output_path": "__notebook__.ipynb",
      "parameters": {},
      "start_time": "2021-08-19T13:34:31.167562",
      "version": "2.3.3"
    },
    "colab": {
      "provenance": []
    }
  },
  "nbformat": 4,
  "nbformat_minor": 5
}